{
 "cells": [
  {
   "cell_type": "code",
   "execution_count": 1,
   "metadata": {
    "collapsed": true,
    "pycharm": {
     "name": "#%%\n"
    }
   },
   "outputs": [],
   "source": [
    "import pandas as pd\n",
    "import seaborn as sns\n",
    "import matplotlib.pyplot as plt\n",
    "import numpy as np\n",
    "import os\n",
    "import warnings"
   ]
  },
  {
   "cell_type": "code",
   "execution_count": 2,
   "outputs": [
    {
     "name": "stdout",
     "output_type": "stream",
     "text": [
      "train: (9427, 5)\n",
      "dev: (3270, 5)\n"
     ]
    }
   ],
   "source": [
    "DATA_PATH = os.path.join(os.getcwd(), 'data')\n",
    "TRAIN_PATH = os.path.join(DATA_PATH, 'train.jsonl')\n",
    "DEV_PATH = os.path.join(DATA_PATH, 'dev.jsonl')\n",
    "\n",
    "dfs = {'train': pd.read_json(TRAIN_PATH, lines=True),\n",
    "       'dev': pd.read_json(DEV_PATH, lines=True)\n",
    "       }\n",
    "for key, df in dfs.items():\n",
    "    df['split'] = key\n",
    "\n",
    "data = pd.concat([v for v in dfs.values()])\n",
    "\n",
    "print('train:', dfs['train'].shape)\n",
    "print('dev:', dfs['dev'].shape)"
   ],
   "metadata": {
    "collapsed": false,
    "pycharm": {
     "name": "#%%\n"
    }
   }
  },
  {
   "cell_type": "code",
   "execution_count": 3,
   "outputs": [
    {
     "data": {
      "text/plain": "                                            question  \\\n0    do iran and afghanistan speak the same language   \n1  do good samaritan laws protect those who help ...   \n2  is windows movie maker part of windows essentials   \n3  is confectionary sugar the same as powdered sugar   \n4         is elder scrolls online the same as skyrim   \n\n                      title  answer  \\\n0          Persian language    True   \n1        Good Samaritan law    True   \n2       Windows Movie Maker    True   \n3            Powdered sugar    True   \n4  The Elder Scrolls Online   False   \n\n                                             passage  split  \n0  Persian (/ˈpɜːrʒən, -ʃən/), also known by its ...  train  \n1  Good Samaritan laws offer legal protection to ...  train  \n2  Windows Movie Maker (formerly known as Windows...  train  \n3  Powdered sugar, also called confectioners' sug...  train  \n4  As with other games in The Elder Scrolls serie...  train  ",
      "text/html": "<div>\n<style scoped>\n    .dataframe tbody tr th:only-of-type {\n        vertical-align: middle;\n    }\n\n    .dataframe tbody tr th {\n        vertical-align: top;\n    }\n\n    .dataframe thead th {\n        text-align: right;\n    }\n</style>\n<table border=\"1\" class=\"dataframe\">\n  <thead>\n    <tr style=\"text-align: right;\">\n      <th></th>\n      <th>question</th>\n      <th>title</th>\n      <th>answer</th>\n      <th>passage</th>\n      <th>split</th>\n    </tr>\n  </thead>\n  <tbody>\n    <tr>\n      <th>0</th>\n      <td>do iran and afghanistan speak the same language</td>\n      <td>Persian language</td>\n      <td>True</td>\n      <td>Persian (/ˈpɜːrʒən, -ʃən/), also known by its ...</td>\n      <td>train</td>\n    </tr>\n    <tr>\n      <th>1</th>\n      <td>do good samaritan laws protect those who help ...</td>\n      <td>Good Samaritan law</td>\n      <td>True</td>\n      <td>Good Samaritan laws offer legal protection to ...</td>\n      <td>train</td>\n    </tr>\n    <tr>\n      <th>2</th>\n      <td>is windows movie maker part of windows essentials</td>\n      <td>Windows Movie Maker</td>\n      <td>True</td>\n      <td>Windows Movie Maker (formerly known as Windows...</td>\n      <td>train</td>\n    </tr>\n    <tr>\n      <th>3</th>\n      <td>is confectionary sugar the same as powdered sugar</td>\n      <td>Powdered sugar</td>\n      <td>True</td>\n      <td>Powdered sugar, also called confectioners' sug...</td>\n      <td>train</td>\n    </tr>\n    <tr>\n      <th>4</th>\n      <td>is elder scrolls online the same as skyrim</td>\n      <td>The Elder Scrolls Online</td>\n      <td>False</td>\n      <td>As with other games in The Elder Scrolls serie...</td>\n      <td>train</td>\n    </tr>\n  </tbody>\n</table>\n</div>"
     },
     "execution_count": 3,
     "metadata": {},
     "output_type": "execute_result"
    }
   ],
   "source": [
    "data.head()"
   ],
   "metadata": {
    "collapsed": false,
    "pycharm": {
     "name": "#%%\n"
    }
   }
  },
  {
   "cell_type": "markdown",
   "source": [
    "### Explaratory Analysis"
   ],
   "metadata": {
    "collapsed": false,
    "pycharm": {
     "name": "#%% md\n"
    }
   }
  },
  {
   "cell_type": "code",
   "execution_count": 4,
   "outputs": [],
   "source": [
    "colors= [\"#70CF97\", \"#4185F4\"]\n",
    "PALETTE = sns.set_palette(sns.color_palette(colors))"
   ],
   "metadata": {
    "collapsed": false,
    "pycharm": {
     "name": "#%%\n"
    }
   }
  },
  {
   "cell_type": "markdown",
   "source": [
    "##### 1. True/False distribution in dataset"
   ],
   "metadata": {
    "collapsed": false,
    "pycharm": {
     "name": "#%% md\n"
    }
   }
  },
  {
   "cell_type": "code",
   "execution_count": 5,
   "outputs": [
    {
     "data": {
      "text/plain": "train    9427\ndev      3270\nName: split, dtype: int64"
     },
     "execution_count": 5,
     "metadata": {},
     "output_type": "execute_result"
    }
   ],
   "source": [
    "data.split.value_counts()"
   ],
   "metadata": {
    "collapsed": false,
    "pycharm": {
     "name": "#%%\n"
    }
   }
  },
  {
   "cell_type": "code",
   "execution_count": 6,
   "outputs": [
    {
     "data": {
      "text/plain": "<Figure size 720x432 with 1 Axes>",
      "image/png": "[encoded data removed]"
     },
     "metadata": {
      "needs_background": "light"
     },
     "output_type": "display_data"
    }
   ],
   "source": [
    "plt.figure(figsize=(10,6))\n",
    "sns.countplot(x='answer', hue='split', data=data, palette=sns.color_palette(PALETTE))\n",
    "plt.legend(loc=\"upper right\")\n",
    "plt.show()"
   ],
   "metadata": {
    "collapsed": false,
    "pycharm": {
     "name": "#%%\n"
    }
   }
  },
  {
   "cell_type": "markdown",
   "source": [
    "##### 2. Question length distribution"
   ],
   "metadata": {
    "collapsed": false,
    "pycharm": {
     "name": "#%% md\n"
    }
   }
  },
  {
   "cell_type": "code",
   "execution_count": 7,
   "outputs": [
    {
     "data": {
      "text/plain": "8"
     },
     "execution_count": 7,
     "metadata": {},
     "output_type": "execute_result"
    }
   ],
   "source": [
    "data['q_len'] = data.question.apply(lambda x: len(x.split()))\n",
    "avg_q_len = int(data.q_len.mean())\n",
    "avg_q_len"
   ],
   "metadata": {
    "collapsed": false,
    "pycharm": {
     "name": "#%%\n"
    }
   }
  },
  {
   "cell_type": "code",
   "execution_count": 8,
   "outputs": [
    {
     "data": {
      "text/plain": "<Figure size 864x504 with 1 Axes>",
      "image/png": "[encoded data removed]"
     },
     "metadata": {
      "needs_background": "light"
     },
     "output_type": "display_data"
    }
   ],
   "source": [
    "plt.figure(figsize=(12,7))\n",
    "sns.countplot(x='q_len', hue='split', data=data, palette=sns.color_palette(PALETTE))\n",
    "plt.legend(loc=\"upper right\")\n",
    "plt.show()"
   ],
   "metadata": {
    "collapsed": false,
    "pycharm": {
     "name": "#%%\n"
    }
   }
  },
  {
   "cell_type": "markdown",
   "source": [
    "##### 3. Passage length distribution"
   ],
   "metadata": {
    "collapsed": false,
    "pycharm": {
     "name": "#%% md\n"
    }
   }
  },
  {
   "cell_type": "code",
   "execution_count": 9,
   "outputs": [
    {
     "data": {
      "text/plain": "92"
     },
     "execution_count": 9,
     "metadata": {},
     "output_type": "execute_result"
    }
   ],
   "source": [
    "data['pas_len'] = data.passage.apply(lambda x: len(x.split()))\n",
    "avg_pas_len = int(data.pas_len.mean())\n",
    "avg_pas_len"
   ],
   "metadata": {
    "collapsed": false,
    "pycharm": {
     "name": "#%%\n"
    }
   }
  },
  {
   "cell_type": "code",
   "execution_count": 10,
   "outputs": [
    {
     "data": {
      "text/plain": "<Figure size 864x504 with 1 Axes>",
      "image/png": "[encoded data removed]"
     },
     "metadata": {
      "needs_background": "light"
     },
     "output_type": "display_data"
    }
   ],
   "source": [
    "plt.figure(figsize=(12,7))\n",
    "bins_ = np.linspace(min(data.pas_len), max(data.pas_len), num = 75)\n",
    "\n",
    "with warnings.catch_warnings():\n",
    "    warnings.simplefilter('ignore')\n",
    "    sns.distplot(data.loc[data['split'] == 'train', 'pas_len'], kde=False, bins = bins_,\n",
    "                 kde_kws = {\"color\": colors[0], \"alpha\": 1, \"lw\": 3, \"label\":\"train\"},\n",
    "                 hist_kws = {\"histtype\":\"step\", \"linewidth\":3, \"alpha\": 1,\n",
    "                             \"color\": colors[0], \"edgecolor\" : colors[0], \"label\":\"train\"})\n",
    "\n",
    "    sns.distplot(data.loc[data['split'] == 'dev', 'pas_len'], kde=False, bins = bins_,\n",
    "                 kde_kws = {\"color\": colors[1], \"alpha\": 1, \"lw\": 3, \"label\":\"dev\"},\n",
    "                 hist_kws = {\"histtype\":\"step\", \"linewidth\":3, \"alpha\": 1,\n",
    "                             \"color\": colors[1], \"edgecolor\" : colors[1], \"label\":\"dev\"})\n",
    "\n",
    "plt.legend(loc=\"upper right\")\n",
    "plt.show()"
   ],
   "metadata": {
    "collapsed": false,
    "pycharm": {
     "name": "#%%\n"
    }
   }
  }
 ],
 "metadata": {
  "kernelspec": {
   "display_name": "Python 3",
   "language": "python",
   "name": "python3"
  },
  "language_info": {
   "codemirror_mode": {
    "name": "ipython",
    "version": 2
   },
   "file_extension": ".py",
   "mimetype": "text/x-python",
   "name": "python",
   "nbconvert_exporter": "python",
   "pygments_lexer": "ipython2",
   "version": "2.7.6"
  }
 },
 "nbformat": 4,
 "nbformat_minor": 0
}